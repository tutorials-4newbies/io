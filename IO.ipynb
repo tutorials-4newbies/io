{
 "cells": [
  {
   "cell_type": "markdown",
   "metadata": {},
   "source": [
    "# IO\n",
    "\n",
    "> In computing, input/output or I/O (or, informally, io or IO) is the communication between an information processing system, such as a computer, and the outside world, possibly a human or another information processing system.  from [wikipedia](https://en.wikipedia.org/wiki/Input/output#:~:text=In%20computing%2C%20input%2Foutput%20or,or%20another%20information%20processing%20system.)"
   ]
  },
  {
   "cell_type": "markdown",
   "metadata": {},
   "source": [
    "# File based IO\n",
    "The first kind of IO we're going to discuss are files.A well known abstraction (yes it is an abstraction) the Operating system provides us - instead of dealing with the spinning disk locations"
   ]
  },
  {
   "cell_type": "code",
   "execution_count": null,
   "metadata": {},
   "outputs": [],
   "source": [
    "# Shakespear sonnets\n",
    "with open('./files/pg1105.txt', 'r') as f:\n",
    "    res = f.readlines()\n",
    "    print(len(res))\n",
    "    print(res[34:40])\n",
    "    \n",
    "    # What happens if I try to reread it?\n",
    "    "
   ]
  },
  {
   "cell_type": "code",
   "execution_count": null,
   "metadata": {},
   "outputs": [],
   "source": [
    "# We might want to read line by line, or for example every second line\n",
    "with open('./files/pg1105.txt', 'r') as f:\n",
    "    for n in range(1,10):\n",
    "        line = f.readline()\n",
    "        print(line)"
   ]
  },
  {
   "cell_type": "code",
   "execution_count": null,
   "metadata": {},
   "outputs": [],
   "source": [
    "# Obviousely we need to cleanup all those empry lines and get only the lines of eternal proze\n",
    "\n",
    "interesting_lines = []\n",
    "with open('./files/pg1105.txt', 'r') as f:\n",
    "    for line in f:\n",
    "        # Note I can just iterate on lines directly\n",
    "        if line != '\\n':\n",
    "            interesting_lines.append(line)\n",
    "        \n",
    "print(interesting_lines[20:30])\n"
   ]
  },
  {
   "cell_type": "code",
   "execution_count": null,
   "metadata": {},
   "outputs": [],
   "source": [
    "# so lets try to write to a new file\n",
    "with open('./files/new.txt', 'r') as f:\n",
    "    f.writelines(interesting_lines)\n",
    "    \n",
    "# OH"
   ]
  },
  {
   "cell_type": "code",
   "execution_count": null,
   "metadata": {},
   "outputs": [],
   "source": [
    "!touch ./files/interesting.txt"
   ]
  },
  {
   "cell_type": "code",
   "execution_count": null,
   "metadata": {},
   "outputs": [],
   "source": [
    "# So now we've got interesting file, can we write it to a new file?\n",
    "\n",
    "with open('./files/interesting.txt', 'r') as f:\n",
    "    f.writelines(interesting_lines)\n",
    "    \n",
    "# OH"
   ]
  },
  {
   "cell_type": "code",
   "execution_count": null,
   "metadata": {},
   "outputs": [],
   "source": [
    "# Note the 'r' flag - it stands for 'read', now let's change to write\n",
    "\n",
    "with open('./files/interesting.txt', 'w') as f:\n",
    "    f.writelines(interesting_lines)\n",
    "    \n"
   ]
  },
  {
   "cell_type": "code",
   "execution_count": null,
   "metadata": {},
   "outputs": [],
   "source": [
    "# Quick check if something happened\n",
    "!ls files"
   ]
  },
  {
   "cell_type": "code",
   "execution_count": null,
   "metadata": {},
   "outputs": [],
   "source": [
    "!head ./files/interesting.txt"
   ]
  },
  {
   "cell_type": "markdown",
   "metadata": {},
   "source": [
    "## IO Streams\n",
    "To use an exact terminology - what we're dealing with here are io streams, so we can also \"seek\" change the cursor place on the stream backwards of forward"
   ]
  },
  {
   "cell_type": "code",
   "execution_count": null,
   "metadata": {},
   "outputs": [],
   "source": [
    "# Shakespear sonnets\n",
    "with open('./files/pg1105.txt', 'r') as f:\n",
    "    res = f.readlines()\n",
    "    print(len(res))\n",
    "    print(f'Current byte position {f.tell()}')\n",
    "    res = f.readlines()\n",
    "    print(len(res))\n",
    "    \n",
    "    f.seek(10000) # Note that seek is in bytes in the stream\n",
    "    print(f'Current byte position {f.tell()}')\n",
    "    res = f.readlines()\n",
    "    print(len(res))"
   ]
  },
  {
   "cell_type": "code",
   "execution_count": null,
   "metadata": {},
   "outputs": [],
   "source": [
    "from io import SEEK_END"
   ]
  },
  {
   "cell_type": "code",
   "execution_count": null,
   "metadata": {},
   "outputs": [],
   "source": [
    "## Reading an IO stream can be lazy\n",
    "# We can open a file more then once\n",
    "f = open('./files/interesting.txt', 'w')\n",
    "# Now another part of the file tries to open my file\n",
    "d = open('./files/interesting.txt')\n",
    "print(d.readline())\n",
    "f.seek(0, SEEK_END)\n",
    "f.writelines(['NO FILE'])\n",
    "\n",
    "print(d.readline())\n",
    "# print(f.read())\n",
    "f.close()\n",
    "d.close()"
   ]
  },
  {
   "cell_type": "code",
   "execution_count": null,
   "metadata": {},
   "outputs": [],
   "source": []
  },
  {
   "cell_type": "markdown",
   "metadata": {},
   "source": [
    "# Files and File Like Objects\n",
    "\n",
    "Note that like many other things in python. the IO module file object is **implementing an interface**, that can be implemented otherwise\n",
    "\n",
    "Enter: File Like Objects"
   ]
  },
  {
   "cell_type": "markdown",
   "metadata": {},
   "source": [
    "![IO: The moon of jupyter](https://upload.wikimedia.org/wikipedia/commons/7/7b/Io_highest_resolution_true_color.jpg)"
   ]
  },
  {
   "cell_type": "markdown",
   "metadata": {},
   "source": [
    "# io streams: stdout and stderr"
   ]
  },
  {
   "cell_type": "code",
   "execution_count": null,
   "metadata": {},
   "outputs": [],
   "source": [
    "import sys"
   ]
  },
  {
   "cell_type": "markdown",
   "metadata": {},
   "source": [
    "# Thinking about IO\n",
    "\n",
    "Computing is done in the cpu, which is the heart and brains of a computer, CPUs are FAST. Main memory access is FAST. IO? may seem fast to us, but isn't really fast"
   ]
  },
  {
   "cell_type": "markdown",
   "metadata": {},
   "source": [
    "IO is where computing meets the laws of physics \n",
    "\n",
    "![Latency numbers every programmer should know](https://camo.githubusercontent.com/77f72259e1eb58596b564d1ad823af1853bc60a3/687474703a2f2f692e696d6775722e636f6d2f6b307431652e706e67)\n",
    "\n",
    "And not only time, but also disk space, network, etc"
   ]
  },
  {
   "cell_type": "code",
   "execution_count": null,
   "metadata": {},
   "outputs": [],
   "source": []
  },
  {
   "cell_type": "code",
   "execution_count": null,
   "metadata": {},
   "outputs": [],
   "source": []
  },
  {
   "cell_type": "markdown",
   "metadata": {},
   "source": [
    "# Homework\n",
    "\n",
    "1. Write a program that prints it self\n",
    "\n",
    "Also print\n",
    "* THe number of comments\n",
    "* the number of functions\n",
    "\n",
    "* Bonues - succeed at printing it self even if run from another folder for example \n",
    "\n",
    "```bash\n",
    "python mylibrary/printer.py\n",
    "```\n",
    "\n",
    "2. Write a program that does http requests to a list of sites - read from a files, does each request 100 times, and calculate the mean, median time for each site, then produce a report with the results   . \n",
    "\n",
    "* Bonus : error handling for failing requests \n",
    "* Bonus: make the report in an html format that can be shown in a browser\n",
    "* Bonus: Print the report to your home/office printer "
   ]
  },
  {
   "cell_type": "code",
   "execution_count": null,
   "metadata": {},
   "outputs": [],
   "source": []
  }
 ],
 "metadata": {
  "kernelspec": {
   "display_name": "Python 3",
   "language": "python",
   "name": "python3"
  },
  "language_info": {
   "codemirror_mode": {
    "name": "ipython",
    "version": 3
   },
   "file_extension": ".py",
   "mimetype": "text/x-python",
   "name": "python",
   "nbconvert_exporter": "python",
   "pygments_lexer": "ipython3",
   "version": "3.8.1"
  }
 },
 "nbformat": 4,
 "nbformat_minor": 4
}
